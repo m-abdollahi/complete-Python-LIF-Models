{
  "nbformat": 4,
  "nbformat_minor": 0,
  "metadata": {
    "colab": {
      "name": "LIF and ELIF Complex Models",
      "provenance": [],
      "collapsed_sections": [
        "MC0K-bOCK-xk",
        "bKpoPYwmkGhz",
        "dsfmhf8CzO2j",
        "rBg5bzOg4kdr",
        "EQkZ1YBuT5S4"
      ],
      "authorship_tag": "ABX9TyMMC044bN7LSLLGAro0pYwf",
      "include_colab_link": true
    },
    "kernelspec": {
      "name": "python3",
      "display_name": "Python 3"
    }
  },
  "cells": [
    {
      "cell_type": "markdown",
      "metadata": {
        "id": "view-in-github",
        "colab_type": "text"
      },
      "source": [
        "<a href=\"https://colab.research.google.com/github/m-abdollahi/completeLIFModels/blob/main/LIF_and_ELIF_Complex_Models.ipynb\" target=\"_parent\"><img src=\"https://colab.research.google.com/assets/colab-badge.svg\" alt=\"Open In Colab\"/></a>"
      ]
    },
    {
      "cell_type": "markdown",
      "metadata": {
        "id": "v65ZA8WRcUGs"
      },
      "source": [
        "Leaky Integrate-and-Fire Full Model [ Linear , nonLinear , Threshold , Reset Model & ... ] \n",
        "\n",
        "*by : Mostafa Abdollahi*\n",
        "\n",
        "github.com/m-abdollahi\n",
        "\n",
        "\n",
        "\n",
        "---\n",
        "\n"
      ]
    },
    {
      "cell_type": "markdown",
      "metadata": {
        "id": "FKkDtAEUY2_I"
      },
      "source": [
        "\n",
        "> > > ># ***Linear Exponential Leaky Integrate-and-Fire (LIF) Model ( Ordinary Model)***\n",
        "\n",
        "\n",
        "\n",
        "\n",
        " \n",
        "\n"
      ]
    },
    {
      "cell_type": "markdown",
      "metadata": {
        "id": "MC0K-bOCK-xk"
      },
      "source": [
        "\n",
        "# 1 ) Ordinary Model ( without threshold or reset and Start Point)\n",
        "\n"
      ]
    },
    {
      "cell_type": "markdown",
      "metadata": {
        "id": "bVFnVq_BJ-Lz"
      },
      "source": [
        "\n",
        "*   Importing Libraries and Modules\n",
        "\n",
        "\n"
      ]
    },
    {
      "cell_type": "code",
      "metadata": {
        "id": "mEmCBCFgbiu4"
      },
      "source": [
        "import numpy as np\n",
        "import matplotlib.pyplot as plt\n",
        "import math as mt\n"
      ],
      "execution_count": 15,
      "outputs": []
    },
    {
      "cell_type": "code",
      "metadata": {
        "colab": {
          "base_uri": "https://localhost:8080/"
        },
        "id": "eNKsPiFANAvj",
        "outputId": "9d079576-660b-4491-e813-9d4e01e040b0"
      },
      "source": [
        "pip install brian2"
      ],
      "execution_count": 16,
      "outputs": [
        {
          "output_type": "stream",
          "text": [
            "Requirement already satisfied: brian2 in /usr/local/lib/python3.6/dist-packages (2.4.2)\n",
            "Requirement already satisfied: sympy>=1.2 in /usr/local/lib/python3.6/dist-packages (from brian2) (1.7)\n",
            "Requirement already satisfied: cython>=0.29 in /usr/local/lib/python3.6/dist-packages (from brian2) (0.29.21)\n",
            "Requirement already satisfied: pyparsing in /usr/local/lib/python3.6/dist-packages (from brian2) (2.4.7)\n",
            "Requirement already satisfied: setuptools>=24.2 in /usr/local/lib/python3.6/dist-packages (from brian2) (50.3.2)\n",
            "Requirement already satisfied: numpy>=1.15 in /usr/local/lib/python3.6/dist-packages (from brian2) (1.18.5)\n",
            "Requirement already satisfied: jinja2>=2.7 in /usr/local/lib/python3.6/dist-packages (from brian2) (2.11.2)\n",
            "Requirement already satisfied: mpmath>=0.19 in /usr/local/lib/python3.6/dist-packages (from sympy>=1.2->brian2) (1.1.0)\n",
            "Requirement already satisfied: MarkupSafe>=0.23 in /usr/local/lib/python3.6/dist-packages (from jinja2>=2.7->brian2) (1.1.1)\n"
          ],
          "name": "stdout"
        }
      ]
    },
    {
      "cell_type": "code",
      "metadata": {
        "id": "ZanJm6iaMiTy"
      },
      "source": [
        "from brian2 import *"
      ],
      "execution_count": 17,
      "outputs": []
    },
    {
      "cell_type": "markdown",
      "metadata": {
        "id": "n6cNz4ECKGjj"
      },
      "source": [
        "\n",
        "*   Set the Neuron\n"
      ]
    },
    {
      "cell_type": "code",
      "metadata": {
        "id": "C_WeWNAxFH9n"
      },
      "source": [
        "v_rest = -65 * mV        # Rest Potential \n",
        "RI = 90 * mV             # RI = I * R = membrane resistance x constant input current = I/G\n",
        "tau = 10*ms              # Tau = Memberane time Constant "
      ],
      "execution_count": 18,
      "outputs": []
    },
    {
      "cell_type": "markdown",
      "metadata": {
        "id": "h1spAGLkKtL7"
      },
      "source": [
        "\n",
        "*   Set the LIF differential equations\n"
      ]
    },
    {
      "cell_type": "code",
      "metadata": {
        "id": "wUwiNzA3hqV4"
      },
      "source": [
        "\n",
        "eqs = '''\n",
        "dv/dt = (v_rest - v + RI)/tau : volt\n",
        "'''"
      ],
      "execution_count": 19,
      "outputs": []
    },
    {
      "cell_type": "markdown",
      "metadata": {
        "id": "puT1XjUBLOrK"
      },
      "source": [
        "\n",
        "*   Set the Neuron Circuit\n"
      ]
    },
    {
      "cell_type": "code",
      "metadata": {
        "id": "Z2sTz2tcLnT6"
      },
      "source": [
        "Methods = 'exact'        # set the method for the equations ( exact or euler)\n",
        "Run_Time0 = 100*ms      # Import the Run time for Record"
      ],
      "execution_count": 20,
      "outputs": []
    },
    {
      "cell_type": "code",
      "metadata": {
        "id": "_XK3pBkoiwzv",
        "colab": {
          "base_uri": "https://localhost:8080/",
          "height": 279
        },
        "outputId": "8e5a7802-1334-4db2-f70e-62b9877c7284"
      },
      "source": [
        "G = NeuronGroup(1, eqs, method=Methods)\n",
        "M = StateMonitor(G, 'v', record=0)\n",
        "run(Run_Time0)\n",
        "plot(M.t/ms, M.v[0])\n",
        "xlabel('Time (ms)')\n",
        "ylabel('v');\n"
      ],
      "execution_count": 21,
      "outputs": [
        {
          "output_type": "display_data",
          "data": {
            "image/png": "[encoded data removed]",
            "text/plain": [
              "<Figure size 432x288 with 1 Axes>"
            ]
          },
          "metadata": {
            "tags": [],
            "needs_background": "light"
          }
        }
      ]
    },
    {
      "cell_type": "markdown",
      "metadata": {
        "id": "bKpoPYwmkGhz"
      },
      "source": [
        "\n",
        "# 2 ) Ordinary Model ( with threshold & reset Potential and Start Point)\n",
        "\n"
      ]
    },
    {
      "cell_type": "markdown",
      "metadata": {
        "id": "4y1HjjwlkGh0"
      },
      "source": [
        "\n",
        "*   Importing Libraries and Modules\n",
        "\n",
        "\n"
      ]
    },
    {
      "cell_type": "code",
      "metadata": {
        "id": "L5qM-a2jkGh0"
      },
      "source": [
        "import numpy as np\n",
        "import matplotlib.pyplot as plt\n",
        "import math as mt\n"
      ],
      "execution_count": 22,
      "outputs": []
    },
    {
      "cell_type": "code",
      "metadata": {
        "colab": {
          "base_uri": "https://localhost:8080/"
        },
        "id": "_lWAT1k2kGh0",
        "outputId": "d1bcf63d-70fc-4d61-ecdb-2e3ef719bcc2"
      },
      "source": [
        "pip install brian2"
      ],
      "execution_count": 23,
      "outputs": [
        {
          "output_type": "stream",
          "text": [
            "Requirement already satisfied: brian2 in /usr/local/lib/python3.6/dist-packages (2.4.2)\n",
            "Requirement already satisfied: numpy>=1.15 in /usr/local/lib/python3.6/dist-packages (from brian2) (1.18.5)\n",
            "Requirement already satisfied: setuptools>=24.2 in /usr/local/lib/python3.6/dist-packages (from brian2) (50.3.2)\n",
            "Requirement already satisfied: cython>=0.29 in /usr/local/lib/python3.6/dist-packages (from brian2) (0.29.21)\n",
            "Requirement already satisfied: jinja2>=2.7 in /usr/local/lib/python3.6/dist-packages (from brian2) (2.11.2)\n",
            "Requirement already satisfied: sympy>=1.2 in /usr/local/lib/python3.6/dist-packages (from brian2) (1.7)\n",
            "Requirement already satisfied: pyparsing in /usr/local/lib/python3.6/dist-packages (from brian2) (2.4.7)\n",
            "Requirement already satisfied: MarkupSafe>=0.23 in /usr/local/lib/python3.6/dist-packages (from jinja2>=2.7->brian2) (1.1.1)\n",
            "Requirement already satisfied: mpmath>=0.19 in /usr/local/lib/python3.6/dist-packages (from sympy>=1.2->brian2) (1.1.0)\n"
          ],
          "name": "stdout"
        }
      ]
    },
    {
      "cell_type": "code",
      "metadata": {
        "id": "Z5_0kxHUkGh1"
      },
      "source": [
        "from brian2 import *"
      ],
      "execution_count": 24,
      "outputs": []
    },
    {
      "cell_type": "markdown",
      "metadata": {
        "id": "k7GwgxTmkGh1"
      },
      "source": [
        "\n",
        "*   Set the Neuron\n"
      ]
    },
    {
      "cell_type": "code",
      "metadata": {
        "id": "QciikeyBkGh1"
      },
      "source": [
        "v_rest = -65 * mV                          # Rest Potential \n",
        "v_threshold = 'v > 0*mV'                   # Threshold Potential\n",
        "v_reset = 'v = -40*mV'                     # Reset Potential\n",
        "v_initial = -70*mV                         # Initail Poteiial Value\n",
        "RI = 90 * mV                               # RI = I * R = membrane resistance x constant input current = I/G\n",
        "tau = 10*ms                                # Tau = Memberane time Constant "
      ],
      "execution_count": 30,
      "outputs": []
    },
    {
      "cell_type": "markdown",
      "metadata": {
        "id": "F_1kMjqHkGh1"
      },
      "source": [
        "\n",
        "*   Set the LIF differential equations\n"
      ]
    },
    {
      "cell_type": "code",
      "metadata": {
        "id": "v9QzSt6WkGh1"
      },
      "source": [
        "\n",
        "eqs = '''\n",
        "dv/dt = (v_rest - v + RI)/tau : volt\n",
        "'''"
      ],
      "execution_count": 31,
      "outputs": []
    },
    {
      "cell_type": "markdown",
      "metadata": {
        "id": "jn-LwveXkGh1"
      },
      "source": [
        "\n",
        "*   Set the Neuron Circuit\n"
      ]
    },
    {
      "cell_type": "code",
      "metadata": {
        "id": "y22AbNYvkGh2"
      },
      "source": [
        "Methods = 'exact'        # set the method for the equations ( exact or euler)\n",
        "Run_Time0 = 100*ms      # Import the Run time for Record"
      ],
      "execution_count": 32,
      "outputs": []
    },
    {
      "cell_type": "code",
      "metadata": {
        "colab": {
          "base_uri": "https://localhost:8080/",
          "height": 279
        },
        "id": "RtI33zcokGh2",
        "outputId": "5fc6be64-d40a-45dc-e6ab-e22f168bf023"
      },
      "source": [
        "G = NeuronGroup(1, eqs, method=Methods , threshold=v_threshold , reset=v_reset)\n",
        "M = StateMonitor(G, 'v', record=0)\n",
        "G.v = v_initial # initial value\n",
        "run(Run_Time0)\n",
        "plot(M.t/ms, M.v[0])\n",
        "xlabel('Time (ms)')\n",
        "ylabel('v');\n"
      ],
      "execution_count": 33,
      "outputs": [
        {
          "output_type": "display_data",
          "data": {
            "image/png": "[encoded data removed]",
            "text/plain": [
              "<Figure size 432x288 with 1 Axes>"
            ]
          },
          "metadata": {
            "tags": [],
            "needs_background": "light"
          }
        }
      ]
    },
    {
      "cell_type": "markdown",
      "metadata": {
        "id": "dsfmhf8CzO2j"
      },
      "source": [
        "\n",
        "# 3 ) Ordinary Model plus Refractoriness type Forced Voltage Clamp \n"
      ]
    },
    {
      "cell_type": "markdown",
      "metadata": {
        "id": "vqGZpvzLzO2j"
      },
      "source": [
        "\n",
        "*   Importing Libraries and Modules\n",
        "\n",
        "\n"
      ]
    },
    {
      "cell_type": "code",
      "metadata": {
        "id": "t0N-rb9BzO2j"
      },
      "source": [
        "import numpy as np\n",
        "import matplotlib.pyplot as plt\n",
        "import math as mt\n"
      ],
      "execution_count": 34,
      "outputs": []
    },
    {
      "cell_type": "code",
      "metadata": {
        "colab": {
          "base_uri": "https://localhost:8080/"
        },
        "id": "xiidf5vAzO2j",
        "outputId": "15bc0142-6ead-4ec2-dc39-6a79d562374d"
      },
      "source": [
        "pip install brian2"
      ],
      "execution_count": 35,
      "outputs": [
        {
          "output_type": "stream",
          "text": [
            "Requirement already satisfied: brian2 in /usr/local/lib/python3.6/dist-packages (2.4.2)\n",
            "Requirement already satisfied: pyparsing in /usr/local/lib/python3.6/dist-packages (from brian2) (2.4.7)\n",
            "Requirement already satisfied: cython>=0.29 in /usr/local/lib/python3.6/dist-packages (from brian2) (0.29.21)\n",
            "Requirement already satisfied: numpy>=1.15 in /usr/local/lib/python3.6/dist-packages (from brian2) (1.18.5)\n",
            "Requirement already satisfied: setuptools>=24.2 in /usr/local/lib/python3.6/dist-packages (from brian2) (50.3.2)\n",
            "Requirement already satisfied: jinja2>=2.7 in /usr/local/lib/python3.6/dist-packages (from brian2) (2.11.2)\n",
            "Requirement already satisfied: sympy>=1.2 in /usr/local/lib/python3.6/dist-packages (from brian2) (1.7)\n",
            "Requirement already satisfied: MarkupSafe>=0.23 in /usr/local/lib/python3.6/dist-packages (from jinja2>=2.7->brian2) (1.1.1)\n",
            "Requirement already satisfied: mpmath>=0.19 in /usr/local/lib/python3.6/dist-packages (from sympy>=1.2->brian2) (1.1.0)\n"
          ],
          "name": "stdout"
        }
      ]
    },
    {
      "cell_type": "code",
      "metadata": {
        "id": "_5ZGT24WzO2k"
      },
      "source": [
        "from brian2 import *"
      ],
      "execution_count": 36,
      "outputs": []
    },
    {
      "cell_type": "markdown",
      "metadata": {
        "id": "SxC_zurTzO2k"
      },
      "source": [
        "\n",
        "*   Set the Neuron\n"
      ]
    },
    {
      "cell_type": "code",
      "metadata": {
        "id": "6Vuftqu7zO2k"
      },
      "source": [
        "v_rest = -65 * mV                          # Rest Potential \n",
        "v_threshold = 'v > 0*mV'                   # Threshold Potential\n",
        "v_reset = 'v = -40*mV'                     # Reset Potential\n",
        "v_initial = -70*mV                         # Initail Poteiial Value\n",
        "RI = 90 * mV                               # RI = I * R = membrane resistance x constant input current = I/G\n",
        "tau = 10*ms                                # Tau = Memberane time Constant \n",
        "refactorytime = 5*ms                       # Refactory time "
      ],
      "execution_count": 37,
      "outputs": []
    },
    {
      "cell_type": "markdown",
      "metadata": {
        "id": "lqwydL2wzO2k"
      },
      "source": [
        "\n",
        "*   Set the LIF differential equations\n"
      ]
    },
    {
      "cell_type": "code",
      "metadata": {
        "id": "4qwavRNMzO2k"
      },
      "source": [
        "\n",
        "eqs = '''\n",
        "dv/dt = (v_rest - v + RI)/tau : volt (unless refractory)\n",
        "'''"
      ],
      "execution_count": 38,
      "outputs": []
    },
    {
      "cell_type": "markdown",
      "metadata": {
        "id": "GR1IgXS4zO2k"
      },
      "source": [
        "\n",
        "*   Set the Neuron Circuit\n"
      ]
    },
    {
      "cell_type": "code",
      "metadata": {
        "id": "vbn9TGX0zO2k"
      },
      "source": [
        "Methods = 'euler'        # set the method for the equations ( exact or euler)\n",
        "Run_Time0 = 100*ms      # Import the Run time for Record"
      ],
      "execution_count": 44,
      "outputs": []
    },
    {
      "cell_type": "code",
      "metadata": {
        "colab": {
          "base_uri": "https://localhost:8080/",
          "height": 279
        },
        "id": "q5vymvVDzO2l",
        "outputId": "239c30cf-37fb-49bf-b0ef-d908704f073a"
      },
      "source": [
        "G = NeuronGroup(1, eqs, method=Methods , threshold=v_threshold , reset=v_reset,refractory=refactorytime,)\n",
        "M = StateMonitor(G, 'v', record=0)\n",
        "G.v = v_initial # initial value\n",
        "run(Run_Time0)\n",
        "plot(M.t/ms, M.v[0])\n",
        "xlabel('Time (ms)')\n",
        "ylabel('v');\n"
      ],
      "execution_count": 45,
      "outputs": [
        {
          "output_type": "display_data",
          "data": {
            "image/png": "[encoded data removed]",
            "text/plain": [
              "<Figure size 432x288 with 1 Axes>"
            ]
          },
          "metadata": {
            "tags": [],
            "needs_background": "light"
          }
        }
      ]
    },
    {
      "cell_type": "markdown",
      "metadata": {
        "id": "V0EpMspA47vx"
      },
      "source": [
        ""
      ]
    },
    {
      "cell_type": "markdown",
      "metadata": {
        "id": "rBg5bzOg4kdr"
      },
      "source": [
        "\n",
        "# 4 ) Ordinary Model plus Refractoriness type Raised Threshold \n"
      ]
    },
    {
      "cell_type": "markdown",
      "metadata": {
        "id": "y0dGGKRI4kdr"
      },
      "source": [
        "\n",
        "*   Importing Libraries and Modules\n",
        "\n",
        "\n"
      ]
    },
    {
      "cell_type": "code",
      "metadata": {
        "id": "NMc74G8Y4kdr"
      },
      "source": [
        "import numpy as np\n",
        "import matplotlib.pyplot as plt\n",
        "import math as mt\n"
      ],
      "execution_count": 66,
      "outputs": []
    },
    {
      "cell_type": "code",
      "metadata": {
        "colab": {
          "base_uri": "https://localhost:8080/"
        },
        "id": "QjMP_WWb4kdr",
        "outputId": "9dbef878-083d-4524-8d99-c1d68e3caf8b"
      },
      "source": [
        "pip install brian2"
      ],
      "execution_count": 67,
      "outputs": [
        {
          "output_type": "stream",
          "text": [
            "Requirement already satisfied: brian2 in /usr/local/lib/python3.6/dist-packages (2.4.2)\n",
            "Requirement already satisfied: jinja2>=2.7 in /usr/local/lib/python3.6/dist-packages (from brian2) (2.11.2)\n",
            "Requirement already satisfied: cython>=0.29 in /usr/local/lib/python3.6/dist-packages (from brian2) (0.29.21)\n",
            "Requirement already satisfied: pyparsing in /usr/local/lib/python3.6/dist-packages (from brian2) (2.4.7)\n",
            "Requirement already satisfied: sympy>=1.2 in /usr/local/lib/python3.6/dist-packages (from brian2) (1.7)\n",
            "Requirement already satisfied: numpy>=1.15 in /usr/local/lib/python3.6/dist-packages (from brian2) (1.18.5)\n",
            "Requirement already satisfied: setuptools>=24.2 in /usr/local/lib/python3.6/dist-packages (from brian2) (50.3.2)\n",
            "Requirement already satisfied: MarkupSafe>=0.23 in /usr/local/lib/python3.6/dist-packages (from jinja2>=2.7->brian2) (1.1.1)\n",
            "Requirement already satisfied: mpmath>=0.19 in /usr/local/lib/python3.6/dist-packages (from sympy>=1.2->brian2) (1.1.0)\n"
          ],
          "name": "stdout"
        }
      ]
    },
    {
      "cell_type": "code",
      "metadata": {
        "id": "wY94xXJp4kds"
      },
      "source": [
        "from brian2 import *"
      ],
      "execution_count": 68,
      "outputs": []
    },
    {
      "cell_type": "markdown",
      "metadata": {
        "id": "bsq-NSjn4kds"
      },
      "source": [
        "\n",
        "*   Set the Neuron\n"
      ]
    },
    {
      "cell_type": "code",
      "metadata": {
        "id": "Su_pgt09CLR1"
      },
      "source": [
        ""
      ],
      "execution_count": null,
      "outputs": []
    },
    {
      "cell_type": "code",
      "metadata": {
        "id": "SQlMNfNu4kds"
      },
      "source": [
        "v_rest = -65 * mV                          # Rest Potential \n",
        "vth = 0*mV                                 #first Treshold Potential\n",
        "vtau = 2*ms                                # Treshold Time Constant\n",
        "Run_Time0 = 100*ms                         # Run time for Record  \n",
        "vtheqs = 0 + mt.exp(-Run_Time0/vtau)       # The exponential for The Treshold\n",
        "v_threshold = 'v > vtheqs*mV'              # Threshold Potential\n",
        "v_reset = 'v = -40*mV'                     # Reset Potential\n",
        "v_initial = -70*mV                         # Initail Poteiial Value\n",
        "RI = 90 * mV                               # RI = I * R = membrane resistance x constant input current = I/G\n",
        "tau = 10*ms                                # Tau = Memberane time Constant \n"
      ],
      "execution_count": 103,
      "outputs": []
    },
    {
      "cell_type": "markdown",
      "metadata": {
        "id": "YGRpOEJ14kds"
      },
      "source": [
        "\n",
        "*   Set the LIF differential equations\n"
      ]
    },
    {
      "cell_type": "code",
      "metadata": {
        "id": "ihGnjLzC4kds"
      },
      "source": [
        "\n",
        "eqs = '''\n",
        "dv/dt = (v_rest - v + RI)/tau : volt \n",
        "'''"
      ],
      "execution_count": 104,
      "outputs": []
    },
    {
      "cell_type": "markdown",
      "metadata": {
        "id": "OiSYnt8P4kds"
      },
      "source": [
        "\n",
        "*   Set the Neuron Circuit\n"
      ]
    },
    {
      "cell_type": "code",
      "metadata": {
        "id": "NiW-DVM34kds"
      },
      "source": [
        "Methods = 'euler'        # set the method for the equations ( exact or euler)\n",
        "Run_Time0 = 100*ms      # Import the Run time for Record"
      ],
      "execution_count": 105,
      "outputs": []
    },
    {
      "cell_type": "code",
      "metadata": {
        "colab": {
          "base_uri": "https://localhost:8080/",
          "height": 279
        },
        "id": "vKJUQ8f24kdt",
        "outputId": "5184bace-6377-4e4b-a3ee-2eb7b01362fb"
      },
      "source": [
        "G = NeuronGroup(1, eqs, method=Methods , threshold=v_threshold , reset=v_reset,)\n",
        "M = StateMonitor(G, 'v', record=0)\n",
        "G.v = v_initial # initial value\n",
        "run(Run_Time0)\n",
        "plot(M.t/ms, M.v[0])\n",
        "xlabel('Time (ms)')\n",
        "ylabel('v');\n"
      ],
      "execution_count": 106,
      "outputs": [
        {
          "output_type": "display_data",
          "data": {
            "image/png": "[encoded data removed]",
            "text/plain": [
              "<Figure size 432x288 with 1 Axes>"
            ]
          },
          "metadata": {
            "tags": [],
            "needs_background": "light"
          }
        }
      ]
    },
    {
      "cell_type": "markdown",
      "metadata": {
        "id": "zK_WFMn1X_XG"
      },
      "source": [
        "\n",
        "> > > ># ***Exponential Exponential Leaky Integrate-and-Fire (ELIF) Model***\n",
        "\n",
        "\n",
        "\n",
        "\n",
        " \n",
        "\n"
      ]
    },
    {
      "cell_type": "markdown",
      "metadata": {
        "id": "EQkZ1YBuT5S4"
      },
      "source": [
        "\n",
        "# 1 ) Exponential Model ( without threshold or reset and Start Point)\n",
        "\n"
      ]
    },
    {
      "cell_type": "markdown",
      "metadata": {
        "id": "GYMApcu5T5S4"
      },
      "source": [
        "\n",
        "*   Importing Libraries and Modules\n",
        "\n",
        "\n"
      ]
    },
    {
      "cell_type": "code",
      "metadata": {
        "id": "5ua0pkoLT5S4"
      },
      "source": [
        "import numpy as np\n",
        "import matplotlib.pyplot as plt\n",
        "import math as mt\n"
      ],
      "execution_count": null,
      "outputs": []
    },
    {
      "cell_type": "code",
      "metadata": {
        "colab": {
          "base_uri": "https://localhost:8080/"
        },
        "id": "NUxkz7E6T5S4",
        "outputId": "c210293c-b604-4a5b-d3e4-83fed5145e25"
      },
      "source": [
        "pip install brian2"
      ],
      "execution_count": 176,
      "outputs": [
        {
          "output_type": "stream",
          "text": [
            "Requirement already satisfied: brian2 in /usr/local/lib/python3.6/dist-packages (2.4.2)\n",
            "Requirement already satisfied: sympy>=1.2 in /usr/local/lib/python3.6/dist-packages (from brian2) (1.7)\n",
            "Requirement already satisfied: numpy>=1.15 in /usr/local/lib/python3.6/dist-packages (from brian2) (1.18.5)\n",
            "Requirement already satisfied: pyparsing in /usr/local/lib/python3.6/dist-packages (from brian2) (2.4.7)\n",
            "Requirement already satisfied: cython>=0.29 in /usr/local/lib/python3.6/dist-packages (from brian2) (0.29.21)\n",
            "Requirement already satisfied: setuptools>=24.2 in /usr/local/lib/python3.6/dist-packages (from brian2) (50.3.2)\n",
            "Requirement already satisfied: jinja2>=2.7 in /usr/local/lib/python3.6/dist-packages (from brian2) (2.11.2)\n",
            "Requirement already satisfied: mpmath>=0.19 in /usr/local/lib/python3.6/dist-packages (from sympy>=1.2->brian2) (1.1.0)\n",
            "Requirement already satisfied: MarkupSafe>=0.23 in /usr/local/lib/python3.6/dist-packages (from jinja2>=2.7->brian2) (1.1.1)\n"
          ],
          "name": "stdout"
        }
      ]
    },
    {
      "cell_type": "code",
      "metadata": {
        "id": "d2xujjsVT5S4"
      },
      "source": [
        "from brian2 import *"
      ],
      "execution_count": 177,
      "outputs": []
    },
    {
      "cell_type": "markdown",
      "metadata": {
        "id": "FnzpkiyAT5S4"
      },
      "source": [
        "\n",
        "*   Set the Neuron\n"
      ]
    },
    {
      "cell_type": "code",
      "metadata": {
        "id": "3aF0kcT4T5S4"
      },
      "source": [
        "v_rest = -65 * mV        # Rest Potential \n",
        "RI = 90 * mV             # RI = I * R = membrane resistance x constant input current = I/G\n",
        "tau = 10*ms              # Tau = Memberane time Constant \n",
        "vth = 20*mV              # thershold Potential\n",
        "deltath = 2*ms           # Tereshold Time reach"
      ],
      "execution_count": 178,
      "outputs": []
    },
    {
      "cell_type": "markdown",
      "metadata": {
        "id": "7AvGKiXiT5S4"
      },
      "source": [
        "\n",
        "*   Set the LIF differential equations\n"
      ]
    },
    {
      "cell_type": "code",
      "metadata": {
        "id": "nRATMmEIT5S4"
      },
      "source": [
        "\n",
        "eqs = '''\n",
        "dv/dt = (v_rest - v + RI  + (deltath * mt.exp((v - vth)/deltath)))/tau : volt\n",
        "'''"
      ],
      "execution_count": 182,
      "outputs": []
    },
    {
      "cell_type": "markdown",
      "metadata": {
        "id": "HhDMl9uiT5S4"
      },
      "source": [
        "\n",
        "*   Set the Neuron Circuit\n"
      ]
    },
    {
      "cell_type": "code",
      "metadata": {
        "id": "n6Oq0w3RT5S4"
      },
      "source": [
        "Methods = 'euler'        # set the method for the equations ( exact or euler)\n",
        "Run_Time0 = 100*ms      # Import the Run time for Record"
      ],
      "execution_count": 183,
      "outputs": []
    },
    {
      "cell_type": "code",
      "metadata": {
        "colab": {
          "base_uri": "https://localhost:8080/",
          "height": 99
        },
        "id": "YM7xqrzFT5S4",
        "outputId": "943fe198-bf56-4df8-f675-0a3bd212078a"
      },
      "source": [
        "G = NeuronGroup(1, eqs, method=Methods)\n",
        "M = StateMonitor(G, 'v', record=0)\n",
        "run(Run_Time0)\n",
        "plot(M.t/ms, M.v[0])\n",
        "xlabel('Time (ms)')\n",
        "ylabel('v');\n"
      ],
      "execution_count": 184,
      "outputs": [
        {
          "output_type": "error",
          "ename": "SyntaxError",
          "evalue": "ignored",
          "traceback": [
            "\u001b[0;36m  File \u001b[0;32m\"<string>\"\u001b[0;36m, line \u001b[0;32munknown\u001b[0m\n\u001b[0;31mSyntaxError\u001b[0m\u001b[0;31m:\u001b[0m Unknown syntax: Call\n"
          ]
        }
      ]
    }
  ]
}